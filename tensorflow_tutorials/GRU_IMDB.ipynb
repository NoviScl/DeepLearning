{
 "cells": [
  {
   "cell_type": "code",
   "execution_count": 16,
   "metadata": {},
   "outputs": [],
   "source": [
    "from keras.preprocessing import sequence\n",
    "from keras import layers\n",
    "from keras.models import Sequential\n",
    "import keras\n",
    "\n"
   ]
  },
  {
   "cell_type": "code",
   "execution_count": 5,
   "metadata": {},
   "outputs": [
    {
     "name": "stdout",
     "output_type": "stream",
     "text": [
      "data processed\n"
     ]
    }
   ],
   "source": [
    "import os\n",
    "\n",
    "imdb_dir = \"IMDB\"\n",
    "train_dir = os.path.join(imdb_dir, 'train')\n",
    "\n",
    "labels = []\n",
    "texts = []\n",
    "\n",
    "for label_type in ['neg', 'pos']:\n",
    "    dir_name = os.path.join(train_dir, label_type)\n",
    "    for fname in os.listdir(dir_name):\n",
    "        if fname[-4:] == '.txt':\n",
    "            f = open(os.path.join(dir_name, fname), encoding='utf-8')\n",
    "            texts.append(f.read())\n",
    "            f.close()\n",
    "            if label_type == 'neg':\n",
    "                labels.append(0)\n",
    "            else:\n",
    "                labels.append(1)\n",
    "            \n",
    "print ('data processed')\n"
   ]
  },
  {
   "cell_type": "code",
   "execution_count": 6,
   "metadata": {},
   "outputs": [
    {
     "name": "stdout",
     "output_type": "stream",
     "text": [
      "25000\n",
      "25000\n"
     ]
    }
   ],
   "source": [
    "print (len(labels))\n",
    "print (len(texts))"
   ]
  },
  {
   "cell_type": "code",
   "execution_count": 11,
   "metadata": {},
   "outputs": [
    {
     "name": "stdout",
     "output_type": "stream",
     "text": [
      "Basically, Cruel Intentions 2 is Cruel Intentions 1, again, only poorly done. The story is exactly the same as the first one (even some of the lines), with only a few exceptions. The cast is more unknown, and definitely less talented. Instead of being seductive and drawing me into watching it, I ended up feeling dirty because it compares to watching a soft-core porn. I'm not sure whether to blame some of the idiotic lines on the actors or the writers...and I always feel bad saying that, because I know how hard it is to do both...but it was basically a two-hour waste of my life. It literally amazes me that some movies get made, and this is no exception...I can't believe they'd make a third one.\n"
     ]
    }
   ],
   "source": [
    "print (texts[0])"
   ]
  },
  {
   "cell_type": "code",
   "execution_count": 12,
   "metadata": {},
   "outputs": [
    {
     "name": "stdout",
     "output_type": "stream",
     "text": [
      "233.7872\n"
     ]
    }
   ],
   "source": [
    "import numpy as np\n",
    "print (np.mean([len(t.split()) for t in texts]))"
   ]
  },
  {
   "cell_type": "code",
   "execution_count": 13,
   "metadata": {},
   "outputs": [
    {
     "name": "stdout",
     "output_type": "stream",
     "text": [
      "Found 88582 unique tokens.\n",
      "Shape of data tensor: (25000, 200)\n",
      "Shape of label tensor: (25000,)\n"
     ]
    }
   ],
   "source": [
    "#tokenizing the text of the raw IMDB data\n",
    "from keras.preprocessing.text import Tokenizer\n",
    "from keras.preprocessing.sequence import pad_sequences\n",
    "import numpy as np\n",
    "\n",
    "maxlen = 200 #longer than that will be truncated (front part)\n",
    "training_samples = 20000\n",
    "validation_samples = 5000\n",
    "max_words = 10000 #vocab size\n",
    "hidden_dim = 24\n",
    "embed_size = 16\n",
    "\n",
    "tokenizer = Tokenizer(num_words=max_words)\n",
    "tokenizer.fit_on_texts(texts) #generate tokens\n",
    "sequences = tokenizer.texts_to_sequences(texts)\n",
    "\n",
    "word_index = tokenizer.word_index\n",
    "print (\"Found %s unique tokens.\" % len(word_index))\n",
    "\n",
    "data = pad_sequences(sequences, maxlen=maxlen)\n",
    "\n",
    "labels = np.asarray(labels)\n",
    "print('Shape of data tensor:', data.shape)\n",
    "print('Shape of label tensor:', labels.shape)\n",
    "\n",
    "#random shuffle before splitting\n",
    "indices = np.arange(data.shape[0])\n",
    "np.random.shuffle(indices)\n",
    "data = data[indices]\n",
    "labels = labels[indices]\n",
    "\n",
    "x_train = data[:training_samples]\n",
    "y_train = labels[:training_samples]\n",
    "x_val = data[training_samples : training_samples + validation_samples]\n",
    "y_val = labels[training_samples : training_samples + validation_samples]\n",
    "\n",
    "#Training and evaluating a bidirectional LSTM\n",
    "\n",
    "x_train = sequence.pad_sequences(x_train, maxlen=maxlen)\n",
    "x_val = sequence.pad_sequences(x_val, maxlen=maxlen)\n",
    "\n"
   ]
  },
  {
   "cell_type": "code",
   "execution_count": 17,
   "metadata": {},
   "outputs": [],
   "source": [
    "#early stopping\n",
    "callbacks_list = [\n",
    "    keras.callbacks.EarlyStopping(\n",
    "        monitor='val_acc',  \n",
    "        patience=1 \n",
    "        #interrupt training when val_acc has stopped improving \n",
    "    )\n",
    "]"
   ]
  },
  {
   "cell_type": "code",
   "execution_count": 18,
   "metadata": {},
   "outputs": [
    {
     "name": "stdout",
     "output_type": "stream",
     "text": [
      "Train on 20000 samples, validate on 5000 samples\n",
      "Epoch 1/10\n",
      "20000/20000 [==============================] - 12s 604us/step - loss: 0.6084 - acc: 0.6646 - val_loss: 0.4326 - val_acc: 0.8276\n",
      "Epoch 2/10\n",
      "20000/20000 [==============================] - 12s 600us/step - loss: 0.3901 - acc: 0.8416 - val_loss: 0.3959 - val_acc: 0.8374\n",
      "Epoch 3/10\n",
      "20000/20000 [==============================] - 12s 601us/step - loss: 0.2960 - acc: 0.8850 - val_loss: 0.4245 - val_acc: 0.8340\n"
     ]
    }
   ],
   "source": [
    "model = Sequential()\n",
    "model.add(layers.Embedding(max_words, embed_size))\n",
    "model.add(layers.SimpleRNN(hidden_dim))\n",
    "model.add(layers.Dense(1, activation='sigmoid'))\n",
    "\n",
    "model.compile(optimizer='rmsprop',\n",
    "              loss='binary_crossentropy',\n",
    "              metrics=['acc'])\n",
    "history_vanillaRNN = model.fit(x_train, y_train, \n",
    "                    epochs=10,\n",
    "                    batch_size = 128,\n",
    "                    validation_data=(x_val, y_val),\n",
    "                    callbacks=callbacks_list)\n"
   ]
  },
  {
   "cell_type": "code",
   "execution_count": 19,
   "metadata": {},
   "outputs": [
    {
     "name": "stdout",
     "output_type": "stream",
     "text": [
      "Train on 20000 samples, validate on 5000 samples\n",
      "Epoch 1/10\n",
      "20000/20000 [==============================] - 39s 2ms/step - loss: 0.5523 - acc: 0.7042 - val_loss: 0.3868 - val_acc: 0.8338\n",
      "Epoch 2/10\n",
      "20000/20000 [==============================] - 41s 2ms/step - loss: 0.3085 - acc: 0.8731 - val_loss: 0.3143 - val_acc: 0.8650\n",
      "Epoch 3/10\n",
      "20000/20000 [==============================] - 41s 2ms/step - loss: 0.2412 - acc: 0.9058 - val_loss: 0.3512 - val_acc: 0.8686\n",
      "Epoch 4/10\n",
      "20000/20000 [==============================] - 42s 2ms/step - loss: 0.2122 - acc: 0.9181 - val_loss: 0.3110 - val_acc: 0.8726\n",
      "Epoch 5/10\n",
      "20000/20000 [==============================] - 37s 2ms/step - loss: 0.1825 - acc: 0.9325 - val_loss: 0.3547 - val_acc: 0.8670\n"
     ]
    }
   ],
   "source": [
    "model = Sequential()\n",
    "model.add(layers.Embedding(max_words, embed_size))\n",
    "model.add(layers.GRU(hidden_dim))\n",
    "model.add(layers.Dense(1, activation='sigmoid'))\n",
    "\n",
    "model.compile(optimizer='rmsprop',\n",
    "              loss='binary_crossentropy',\n",
    "              metrics=['acc'])\n",
    "history_GRU = model.fit(x_train, y_train, \n",
    "                    epochs=10,\n",
    "                    batch_size = 128,\n",
    "                    validation_data=(x_val, y_val),\n",
    "                    callbacks=callbacks_list)"
   ]
  },
  {
   "cell_type": "code",
   "execution_count": 23,
   "metadata": {},
   "outputs": [
    {
     "name": "stdout",
     "output_type": "stream",
     "text": [
      "Train on 20000 samples, validate on 5000 samples\n",
      "Epoch 1/10\n",
      "20000/20000 [==============================] - 78s 4ms/step - loss: 0.5869 - acc: 0.6869 - val_loss: 0.4196 - val_acc: 0.8314\n",
      "Epoch 2/10\n",
      "20000/20000 [==============================] - 83s 4ms/step - loss: 0.3688 - acc: 0.8438 - val_loss: 0.3559 - val_acc: 0.8566\n",
      "Epoch 3/10\n",
      "20000/20000 [==============================] - 81s 4ms/step - loss: 0.2950 - acc: 0.8806 - val_loss: 0.3406 - val_acc: 0.8572\n",
      "Epoch 4/10\n",
      "20000/20000 [==============================] - 81s 4ms/step - loss: 0.2529 - acc: 0.9003 - val_loss: 0.3182 - val_acc: 0.8732\n",
      "Epoch 5/10\n",
      "20000/20000 [==============================] - 82s 4ms/step - loss: 0.2161 - acc: 0.9183 - val_loss: 0.3601 - val_acc: 0.8540\n"
     ]
    }
   ],
   "source": [
    "model = Sequential()\n",
    "model.add(layers.Embedding(max_words, embed_size))\n",
    "model.add(layers.Bidirectional(layers.GRU(hidden_dim)))\n",
    "model.add(layers.Dense(1, activation='sigmoid'))\n",
    "\n",
    "model.compile(optimizer='rmsprop',\n",
    "              loss='binary_crossentropy',\n",
    "              metrics=['acc'])\n",
    "history_GRU = model.fit(x_train, y_train, \n",
    "                    epochs=10,\n",
    "                    batch_size = 128,\n",
    "                    validation_data=(x_val, y_val),\n",
    "                    callbacks=callbacks_list)"
   ]
  },
  {
   "cell_type": "code",
   "execution_count": null,
   "metadata": {},
   "outputs": [],
   "source": []
  }
 ],
 "metadata": {
  "kernelspec": {
   "display_name": "Python 3",
   "language": "python",
   "name": "python3"
  },
  "language_info": {
   "codemirror_mode": {
    "name": "ipython",
    "version": 3
   },
   "file_extension": ".py",
   "mimetype": "text/x-python",
   "name": "python",
   "nbconvert_exporter": "python",
   "pygments_lexer": "ipython3",
   "version": "3.5.2"
  }
 },
 "nbformat": 4,
 "nbformat_minor": 2
}
